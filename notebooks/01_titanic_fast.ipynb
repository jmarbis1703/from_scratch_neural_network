{
 "cells": [
  {
   "cell_type": "markdown",
   "id": "b8e477d6",
   "metadata": {},
   "source": [
    "# Titanic — Fast Demo\n",
    "Minimal run using the from-scratch NN. Uses a synthetic fallback if the CSV is missing."
   ]
  },
  {
   "cell_type": "code",
   "execution_count": null,
   "id": "62b11d97",
   "metadata": {},
   "outputs": [],
   "source": [
    "from final_project.cli import fast_titanic\n",
    "fast_titanic()"
   ]
  }
 ],
 "metadata": {},
 "nbformat": 4,
 "nbformat_minor": 5
}